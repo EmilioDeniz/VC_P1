{
 "cells": [
  {
   "cell_type": "markdown",
   "metadata": {},
   "source": [
    "Paquetes necesarios"
   ]
  },
  {
   "cell_type": "code",
   "execution_count": 1,
   "metadata": {},
   "outputs": [],
   "source": [
    "import cv2  \n",
    "import numpy as np\n",
    "import matplotlib.pyplot as plt"
   ]
  },
  {
   "cell_type": "markdown",
   "metadata": {},
   "source": [
    "TAREA: Crea una imagen, p.e. 800x800, con la textura del tablero de ajedrez"
   ]
  },
  {
   "cell_type": "code",
   "execution_count": 2,
   "metadata": {},
   "outputs": [
    {
     "name": "stdout",
     "output_type": "stream",
     "text": [
      "(800, 800, 1)\n"
     ]
    },
    {
     "data": {
      "image/png": "[encoded data removed]",
      "text/plain": [
       "<Figure size 640x480 with 1 Axes>"
      ]
     },
     "metadata": {},
     "output_type": "display_data"
    }
   ],
   "source": [
    "#Crea una imagen con tres planos\n",
    "resolution = 800\n",
    "ajedrez_img = np.zeros((resolution,resolution,1), dtype = np.uint8)\n",
    "\n",
    "#Rellenamos el tablero\n",
    "size = resolution//8\n",
    "blanco = True\n",
    "for i in range(8):\n",
    "    for j in range(8):\n",
    "        if blanco:\n",
    "            ajedrez_img[i*size:(i + 1)*size, j *size:(j + 1)*size, 0] = 255\n",
    "        blanco = not blanco\n",
    "    blanco = not blanco \n",
    "    \n",
    "#Dimensiones\n",
    "print(ajedrez_img.shape)\n",
    "plt.imshow(ajedrez_img, cmap='gray')\n",
    "plt.axis('off')\n",
    "plt.show()\n"
   ]
  },
  {
   "cell_type": "code",
   "execution_count": 90,
   "metadata": {},
   "outputs": [
    {
     "data": {
      "image/png": "[encoded data removed]",
      "text/plain": [
       "<Figure size 640x480 with 1 Axes>"
      ]
     },
     "metadata": {},
     "output_type": "display_data"
    }
   ],
   "source": [
    "#Modifica el primer plano de color (Rojo, ya que es RGB)\n",
    "# #color_img[:,:,1] = 200 #Prueba otras combinaciones\n",
    "#color_img[:,:,2] = 255 \n",
    "\n",
    "mondrian_img = np.zeros((200,200,3), dtype = np.uint8)\n",
    "mondrian_img[:] = 0 \n",
    "\n",
    "mondrian_img[5:50,5:60,1]=255 #verde\n",
    "mondrian_img[55:70,5:80,2]=225 # azul\n",
    "mondrian_img[5:50,65:80,1]=120 # verde oscuro\n",
    "mondrian_img[5:50,85:120,0]=90 # rojo oscuro\n",
    "mondrian_img[75:110,5:150,0]=225 #rojo\n",
    "mondrian_img[5:110,155:195,2]=60 # azul marino\n",
    "mondrian_img[5:70,125:150,:] = 255 #blanco\n",
    "mondrian_img[115:130,5:70,:] = [120,50,0] #marrón\n",
    "mondrian_img[115:175,75:100,:] = [255,120,0] #naranja\n",
    "mondrian_img[135:195,5:70,:] = [255,255,0] #amarillo\n",
    "mondrian_img[180:195,75:130,:] = 120 #gris\n",
    "mondrian_img[180:195,135:195,:] = 50 #gris oscuro\n",
    "mondrian_img[115:125,155:195,:] = [50,50,0] #amarillo oscuro\n",
    "mondrian_img[115:140,105:150,:] = [120,0,255] #morado\n",
    "mondrian_img[130:175,155:195,:] = [50,0,50] # morado oscuro\n",
    "mondrian_img[145:175,105:150,:] = 255 #morado\n",
    "mondrian_img[55:70,85:120,2]=120 # azul oscuro\n",
    "\n",
    "plt.imshow(mondrian_img) \n",
    "plt.axis('off')\n",
    "plt.show()"
   ]
  },
  {
   "cell_type": "markdown",
   "metadata": {},
   "source": [
    "TAREA: Crear una imagen estilo Mondrian (un ejemplo https://www3.gobiernodecanarias.org/medusa/ecoescuela/sa/2017/04/17/descubriendo-a-mondrian/ )"
   ]
  },
  {
   "cell_type": "code",
   "execution_count": 91,
   "metadata": {},
   "outputs": [
    {
     "data": {
      "image/png": "[encoded data removed]",
      "text/plain": [
       "<Figure size 640x480 with 1 Axes>"
      ]
     },
     "metadata": {},
     "output_type": "display_data"
    },
    {
     "data": {
      "text/plain": [
       "True"
      ]
     },
     "execution_count": 91,
     "metadata": {},
     "output_type": "execute_result"
    }
   ],
   "source": [
    "resolution = 800\n",
    "ajedrez_img2 = np.zeros((resolution,resolution,1), dtype = np.uint8)\n",
    "\n",
    "size = resolution//8\n",
    "blanco = True\n",
    "for i in range(8):\n",
    "    for j in range(8):\n",
    "        if blanco:\n",
    "            cv2.rectangle(ajedrez_img2,(j*size,i*size),((j+1)*size,(i+1)*size),(255,255,255),-1)\n",
    "        blanco = not blanco\n",
    "    blanco = not blanco \n",
    "\n",
    "#Visualiza sin especificar el mapa de color gris\n",
    "plt.imshow(ajedrez_img2, cmap='gray')\n",
    "plt.axis('off')\n",
    "plt.show()\n",
    "#Salva la imagen resultante a disco\n",
    "cv2.imwrite('imagen.jpg', ajedrez_img2)"
   ]
  },
  {
   "cell_type": "markdown",
   "metadata": {},
   "source": [
    "TAREA: Resuelve una de las tareas previas (a elegir) con las funciones de dibujo de OpenCV  :)"
   ]
  },
  {
   "cell_type": "code",
   "execution_count": 3,
   "metadata": {},
   "outputs": [],
   "source": [
    "vid = cv2.VideoCapture(0)\n",
    "  \n",
    "while(True):      \n",
    "    # fotograma a fotograma\n",
    "    ret, frame = vid.read()\n",
    "\n",
    "    if ret:\n",
    "        #Separamos canales\n",
    "        b = frame[:,:,0]\n",
    "        g = frame[:,:,1]\n",
    "        r = frame[:,:,2]\n",
    "        #Dimensiones\n",
    "        h, w, c = frame.shape\n",
    "        \n",
    "       # Rotación de 90 grados al canal verde (G)\n",
    "        M = cv2.getRotationMatrix2D((w/2, h/2), 90, 1)\n",
    "        rotated_green = cv2.warpAffine(g, M, (w, h))\n",
    "\n",
    "        #Concateamos en horizontal los tres planos del fotograma\n",
    "        collage = np.hstack((-r, rotated_green, b))\n",
    "    \n",
    "        # Muestra fotograma redimensionando a la mitad para que quepa en pantalla\n",
    "        cv2.imshow('Cam3', cv2.resize(collage, (int(w*1.5),int(h/2)),cv2.INTER_NEAREST))\n",
    "    \n",
    "    # Detenemos pulsado ESC\n",
    "    if cv2.waitKey(20) == 27:\n",
    "        break\n",
    "  \n",
    "# Libera el objeto de captura\n",
    "vid.release()\n",
    "# Destruye ventanas\n",
    "cv2.destroyAllWindows()"
   ]
  },
  {
   "cell_type": "markdown",
   "metadata": {},
   "source": [
    "TAREA: Modifica de alguna forma los valores de un plano de la imagen"
   ]
  },
  {
   "cell_type": "markdown",
   "metadata": {},
   "source": [
    "Evento de ratón para mostrar el valor RGB del píxel"
   ]
  },
  {
   "cell_type": "code",
   "execution_count": 4,
   "metadata": {},
   "outputs": [],
   "source": [
    "# Función que trata eventos de ratón \n",
    "def mouse_events(event, x, y, flags, params):\n",
    "    global px, py, R, G, B\n",
    "    px = -1\n",
    "    # Movimiento del puntero     \n",
    "    if event==cv2.EVENT_MOUSEMOVE:\n",
    "        #Valores del píxel\n",
    "        B = frame[y, x, 0]\n",
    "        G = frame[y, x, 1]\n",
    "        R = frame[y, x, 2]  \n",
    "\n",
    "        px = x\n",
    "        py = y\n",
    "\n",
    "     \n",
    "  "
   ]
  },
  {
   "cell_type": "code",
   "execution_count": 5,
   "metadata": {},
   "outputs": [],
   "source": [
    "vid = cv2.VideoCapture(0)\n",
    "\n",
    "# Tipografía para mostrar texto\n",
    "font = cv2.FONT_HERSHEY_SIMPLEX\n",
    "  \n",
    "lanzado = 0\n",
    "px = -1\n",
    "while(True):      \n",
    "    # fotograma a fotograma\n",
    "    ret, frame = vid.read()\n",
    "\n",
    "    if ret: \n",
    "        # Activa em manejador en el primer fotograma\n",
    "        if lanzado == 0:\n",
    "            # Muestra fotograma\n",
    "            cv2.imshow('Cam', frame)   \n",
    "            # Define el nombre del manejador del evento\n",
    "            cv2.setMouseCallback('Cam', mouse_events)\n",
    "            lanzado = 1\n",
    "            \n",
    "        \n",
    "        #Encuentra el pixel más claro y el más oscuro de la imagen\n",
    "        min_brightness = np.min(frame)\n",
    "        max_brightness = np.max(frame)\n",
    "\n",
    "        # Encuentra las coordenadas del píxel más claro y más oscuro\n",
    "        min_coord = np.argwhere(frame == min_brightness)[0]\n",
    "        max_coord = np.argwhere(frame == max_brightness)[0]\n",
    "\n",
    "        # Dibuja circunferencia en la coordenada del píxel más claro\n",
    "        cv2.circle(frame, (max_coord[1], max_coord[0]), 10, (0, 0, 255), 1)  # Rojo\n",
    "        # Dibuja circunferencia en la coordenada del píxel más oscuro\n",
    "        cv2.circle(frame, (min_coord[1], min_coord[0]), 10, (255, 0, 0), 1)  # Azul\n",
    "\n",
    "        # Obtiene los valores medios en las zonas 8x8\n",
    "        square_size = 8\n",
    "        h, w, _ = frame.shape\n",
    "        avg_colors = []\n",
    "        for y in range(0, h, square_size):\n",
    "            for x in range(0, w, square_size):\n",
    "                window = frame[y:y+square_size, x:x+square_size]\n",
    "                avg_color = np.mean(window, axis=(0, 1))\n",
    "                avg_colors.append((avg_color, (x, y)))\n",
    "\n",
    "        # Encuentra la ventana más clara y la más oscura\n",
    "        min_avg_color, min_coord = min(avg_colors, key=lambda x: np.mean(x[0]))\n",
    "        max_avg_color, max_coord = max(avg_colors, key=lambda x: np.mean(x[0]))\n",
    "\n",
    "        # Dibuja cuadrado alrededor de la zona más clara\n",
    "        min_x, min_y = min_coord\n",
    "        cv2.rectangle(frame, (min_x, min_y), (min_x + square_size, min_y + square_size), (255, 0, 0), 1)  \n",
    "\n",
    "        # Dibuja cuadrado alrededor de la zona más oscura\n",
    "        max_x, max_y = max_coord\n",
    "        cv2.rectangle(frame, (max_x, max_y), (max_x + square_size, max_y + square_size), (0, 0, 255), 1)  \n",
    "\n",
    "        # Muestra valores RGB intentando centrar en el puntero\n",
    "        if px > -1:\n",
    "            cv2.putText(frame, '{}'.format(R), (px-45,py-5), font, 0.5, (0, 0, 255), 1)\n",
    "            cv2.putText(frame, '     {}'.format(G), (px-54,py-5), font, 0.5, (0, 255, 0), 1)\n",
    "            cv2.putText(frame, '         {}'.format(B), (px-54,py-5), font, 0.5, (255, 0, 0), 1)\n",
    "            \n",
    "        cv2.imshow('Cam', frame)   \n",
    "        \n",
    "    # Detenemos pulsado ESC\n",
    "    if cv2.waitKey(20) == 27:\n",
    "        break\n",
    "  \n",
    "# Libera el objeto de captura\n",
    "vid.release()\n",
    "# Destruye ventanas\n",
    "cv2.destroyAllWindows()"
   ]
  },
  {
   "cell_type": "markdown",
   "metadata": {},
   "source": [
    "TAREA:\n",
    "Pintar círculos en las posiciones del píxel más claro y oscuro de la imagen \n",
    "¿Si quisieras hacerlo sobre la zona 8x8 más clara/oscura?"
   ]
  },
  {
   "cell_type": "code",
   "execution_count": 9,
   "metadata": {},
   "outputs": [],
   "source": [
    "import cv2\n",
    "import numpy as np\n",
    "\n",
    "vid = cv2.VideoCapture(0)\n",
    "\n",
    "#Dimensiones de la cámara\n",
    "w = int(vid.get(cv2.CAP_PROP_FRAME_WIDTH))\n",
    "h = int(vid.get(cv2.CAP_PROP_FRAME_HEIGHT))\n",
    "\n",
    "#Fuerzo a mitad de resolución para ocupar menos pantalla\n",
    "w = int(w / 2)\n",
    "h = int(h / 2)\n",
    "vid.set(cv2.CAP_PROP_FRAME_WIDTH, w)\n",
    "vid.set(cv2.CAP_PROP_FRAME_HEIGHT, h)\n",
    "\n",
    "#Imagen conjunta 3x original\n",
    "collage = np.zeros((h * 3, w * 3, 3), dtype=np.uint8)\n",
    "tl = collage[0:h, 0:w]\n",
    "tc = collage[0:h, w:w + w]\n",
    "tr = collage[0:h, w + w:w + w + w]\n",
    "ml = collage[h:h + h, 0:w]\n",
    "mc = collage[h:h + h, w:w + w]\n",
    "mr = collage[h:h + h, w + w:w + w + w]\n",
    "bl = collage[h + h:h + h + h, 0:w]\n",
    "bc = collage[h + h:h + h + h, w:w + w]\n",
    "br = collage[h + h:h + h + h, w + w:w + w + w]\n",
    "\n",
    "while True:\n",
    "    # fotograma a fotograma\n",
    "    ret, frameIN = vid.read()\n",
    "    \n",
    "    #Menor tamaño\n",
    "    frame = cv2.resize(frameIN, (w, h), cv2.INTER_NEAREST)\n",
    "\n",
    "    if ret:\n",
    "        \n",
    "        #Separamos canales\n",
    "        r = frame[:, :, 2]\n",
    "        g = frame[:, :, 1]\n",
    "        b = frame[:, :, 0]\n",
    "\n",
    "\n",
    "\n",
    "        #Jugamos\n",
    "        tl[:, :, 0] = b\n",
    "        tl[:, :, 1] = g\n",
    "        tl[:, :, 2] = r\n",
    "\n",
    "        tc[:, :, 0] = 255 - r\n",
    "        tc[:, :, 1] = g\n",
    "        tc[:, :, 2] = b\n",
    "\n",
    "        tr[:, :, 0] = r\n",
    "        tr[:, :, 1] = 240 - g\n",
    "        tr[:, :, 2] = 255 - b\n",
    "        \n",
    "        ml[:, :, 0] = r\n",
    "        ml[:, :, 1] = 255 - b\n",
    "        ml[:, :, 2] = g\n",
    "\n",
    "        mc[:, :, 0] = 255-b\n",
    "        mc[:, :, 1] = g\n",
    "        mc[:, :, 2] = 255-r\n",
    "        \n",
    "        mr[:, :, 0] = 240-b\n",
    "        mr[:, :, 1] = 255\n",
    "        mr[:, :, 2] = 255\n",
    "\n",
    "        bl[:, :, 0] = r\n",
    "        bl[:, :, 1] = g\n",
    "        bl[:, :, 2] = 255 - b\n",
    "\n",
    "        bc[:, :, 0] = 255 - b\n",
    "        bc[:, :, 1] = 255 - g\n",
    "        bc[:, :, 2] = 255 - r\n",
    "        \n",
    "        br[:, :, 0] = 255\n",
    "        br[:, :, 1] = g\n",
    "        br[:, :, 2] = 255\n",
    "        \n",
    "\n",
    "        # Muestra composicion\n",
    "        cv2.imshow('Cam', collage)\n",
    "        \n",
    "    # Detenemos pulsado ESC\n",
    "    if cv2.waitKey(20) == 27:\n",
    "        break\n",
    "\n",
    "# Libera el objeto de captura\n",
    "vid.release()\n",
    "# Destruye ventanas\n",
    "cv2.destroyAllWindows()"
   ]
  },
  {
   "cell_type": "markdown",
   "metadata": {},
   "source": [
    "TAREA: Haz tu propuesta pop art"
   ]
  }
 ],
 "metadata": {
  "kernelspec": {
   "display_name": "Python 3.7.3 ('FACES')",
   "language": "python",
   "name": "python3"
  },
  "language_info": {
   "codemirror_mode": {
    "name": "ipython",
    "version": 3
   },
   "file_extension": ".py",
   "mimetype": "text/x-python",
   "name": "python",
   "nbconvert_exporter": "python",
   "pygments_lexer": "ipython3",
   "version": "3.11.5"
  },
  "orig_nbformat": 4,
  "vscode": {
   "interpreter": {
    "hash": "ea3a1ee99ce326e593ddb52cd278556d527fcb6552c40e2a47b1efb9d0183637"
   }
  }
 },
 "nbformat": 4,
 "nbformat_minor": 2
}
